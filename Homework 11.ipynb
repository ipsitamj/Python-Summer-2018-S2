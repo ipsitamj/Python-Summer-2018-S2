{
 "cells": [
  {
   "cell_type": "markdown",
   "metadata": {},
   "source": [
    "\n",
    "# CIS024C - Summer 2018\n",
    "\n",
    "## Homework 11\n",
    "\n",
    "Homework 11 covers object oriented programming in Python\n",
    "\n",
    "The below sites have some interesting and useful information on working with files\n",
    "\n",
    "https://drive.google.com/open?id=1OrcpXEmhvgcJxSlchIBsvmXST0lG_uKx\n",
    "http://www.tutorialspoint.com/python/python_classes_objects.htm\n",
    "\n",
    "You will need to download this notebook and use this as a starting point for your homework. You will just need to fill in the content of each code-block (cell) and execute. Once you have completed all the exercises, you will need to save and upload this to your github repository under a folder called hw10.\n",
    "\n",
    "Note also the exercises build on top of one another so you might be able to do the next exercise if you have not completed the previous exercise.\n",
    "\n",
    "Post any questions you have on our Slack at **cis-024c1.slack.com**\n",
    "\n",
    "Slides\n",
    "\n",
    "https://docs.google.com/presentation/d/1AigvCKV1yb3PrrcT5xt3IqyAwGpv6IKMNWYUiQ2Oy6k/edit?usp=sharing\n",
    "\n",
    "**Please refer back to hw1 and slack for instructions on how to setup your computer for developing using Python.**"
   ]
  },
  {
   "cell_type": "markdown",
   "metadata": {},
   "source": [
    "### Helpful Jupyter Commands\n",
    "\n",
    "Below are some useful commands to know when using Jupyter\n",
    "\n",
    "1. You can add a new cell by clicking on the \"+\" icon on top.\n",
    "2. You can delete a cell by selecting that cell and clicking on the \"scissors\" icon on top.\n",
    "3. You can execute a cell by either pressing shift+enter or selecting the \"play\" button on top.\n",
    "4. You can create a new file in Jupyter via the File menu->New Notebook option. Make sure to select Python 2 when creating your notebook.\n",
    "5. Also, for your code blocks make sure that Code is selected instead of another option like Markdown.\n",
    "6. Use the Enter key to go to the next line in a cell to enter the next statement.\n",
    "7. You can clear results by clicking on the Cell menu item and selecting Current Output->Clear or All Output->Clear depending on whether you are trying to just clear the output for one cell or for all cells.\n",
    "8. In case your program has crashed for some reason (infinite loop, for example), you can restart your Python session by select Kernel in the menu and selecting Restart.\n"
   ]
  },
  {
   "cell_type": "markdown",
   "metadata": {},
   "source": [
    "#### Check Python Version"
   ]
  },
  {
   "cell_type": "code",
   "execution_count": 1,
   "metadata": {},
   "outputs": [
    {
     "name": "stderr",
     "output_type": "stream",
     "text": [
      "Python 3.6.5 :: Anaconda, Inc.\n"
     ]
    }
   ],
   "source": [
    "!python --version"
   ]
  },
  {
   "cell_type": "markdown",
   "metadata": {},
   "source": [
    "**Exercise 1 - Testing your knowledge of object oriented programming concepts **\n",
    "\n",
    "Answer the below questions\n",
    "\n",
    "1. Why do we need classes?\n",
    "2. What is encapsulation?"
   ]
  },
  {
   "cell_type": "markdown",
   "metadata": {},
   "source": [
    "**1. Without classes, you cannot define objects (or instances), because objects are defined within classes, which is why classes are necessary in Python. Classes are also helpful when the need to bundle functions and data together arises.**\n",
    "**2. For an object-oriented Python program, you can restrict access to specific methods and variables. This prevents the data from being changed on accident and is called encapsulation. To do this, put two underscores before the variable name.**"
   ]
  },
  {
   "cell_type": "markdown",
   "metadata": {},
   "source": [
    "** Exercise 2 - Class creation **\n",
    "\n",
    "Create a Python class named **Employee** with the following attributes and methods\n",
    "\n",
    "Data members\n",
    "```\n",
    "1. employeeName  - type string\n",
    "2. employeeAge  - type int\n",
    "3. employeeSalary - type float\n",
    "```\n",
    "\n",
    "Methods:\n",
    "```\n",
    "1. getEmployee - returns employee name\n",
    "2. getEmployeeAge - gets the employee age\n",
    "3. getEmployeeSalary - returns the employee salary\n",
    "4. __init__ - initialize method accepts the name, age and salary of the employee\n",
    "```\n",
    "\n",
    "Create an object of type Employee and initialize with arbitrary values. Invoke the get methods and display the result."
   ]
  },
  {
   "cell_type": "code",
   "execution_count": 26,
   "metadata": {},
   "outputs": [],
   "source": [
    "class Employee(object):\n",
    "    \n",
    "    def __init__(self,name,age,salary):\n",
    "        self.name = name\n",
    "        self.age = age\n",
    "        self.salary = salary\n",
    "        \n",
    "    def EmployeeName(self,name):\n",
    "        self.name = name\n",
    "        \n",
    "    def EmployeeAge(self,age):\n",
    "        self.age = age\n",
    "        \n",
    "    def EmployeeSalary(self,salary):\n",
    "        self.salary = salary\n",
    "        \n",
    "    def printEmployeeDetails(self):\n",
    "        print(self.name)\n",
    "        print(self.age)\n",
    "        print(self.salary)"
   ]
  },
  {
   "cell_type": "code",
   "execution_count": 27,
   "metadata": {},
   "outputs": [],
   "source": [
    "employee1 = Employee(\"Tina\", 34, 1358.34)"
   ]
  },
  {
   "cell_type": "code",
   "execution_count": 28,
   "metadata": {},
   "outputs": [
    {
     "name": "stdout",
     "output_type": "stream",
     "text": [
      "Tina\n",
      "34\n",
      "1358.34\n"
     ]
    }
   ],
   "source": [
    "employee1.printEmployeeDetails()"
   ]
  },
  {
   "cell_type": "markdown",
   "metadata": {},
   "source": [
    "#### Exercise 3 - Private members\n",
    "\n",
    "In the above **Employee** class make the employeeName, employeeAge and employeeSalary private so that their access is restricted to only within the class."
   ]
  },
  {
   "cell_type": "code",
   "execution_count": 1,
   "metadata": {},
   "outputs": [],
   "source": [
    "class Employee(object):\n",
    "    \n",
    "    def __init__(self,name,age,salary):\n",
    "        self.__name = name\n",
    "        self.__age = age\n",
    "        self.__salary = salary\n",
    "        \n",
    "    def EmployeeName(self,name):\n",
    "        self.__name = name\n",
    "        \n",
    "    def EmployeeAge(self,age):\n",
    "        self.__age = age\n",
    "        \n",
    "    def EmployeeSalary(self,salary):\n",
    "        self.__salary = salary\n",
    "        \n",
    "    def printEmployeeDetails(self):\n",
    "        print(self.__name)\n",
    "        print(self.__age)\n",
    "        print(self.__salary)"
   ]
  },
  {
   "cell_type": "code",
   "execution_count": 2,
   "metadata": {},
   "outputs": [],
   "source": [
    "employee1 = Employee(\"Tina\", 34, 1358.34)"
   ]
  },
  {
   "cell_type": "code",
   "execution_count": 3,
   "metadata": {},
   "outputs": [
    {
     "name": "stdout",
     "output_type": "stream",
     "text": [
      "Tina\n",
      "34\n",
      "1358.34\n"
     ]
    }
   ],
   "source": [
    "employee1.printEmployeeDetails()"
   ]
  },
  {
   "cell_type": "markdown",
   "metadata": {},
   "source": [
    "#### Exercise 4 - Adding setters and working with a list of Employees\n",
    "\n",
    "In the **Employee** class add the following methods\n",
    "\n",
    "```\n",
    "1. setEmployeeAge - accepts age and sets it in the object\n",
    "2. setEmployeeName - accepts employee name and sets it in the object\n",
    "3. setEmployeeSalary - accepts employee salary and sets it i nthe object\n",
    "```\n",
    "\n",
    "Create a list of employees called employeeList. Initialize the list with three objects of type Employee. Initialize the object with the values \"None\" for employeeName, 0 for employeeAge and 0 for employeeSalary.\n",
    "\n",
    "Loop  through each employee in the employeeList. Each time, request the user to enter the name, age and salary of a different employee. Use the set methods to set the name, age and salary for each employee in the employeeList.\n",
    "\n",
    "Loop through each employee in the employeeList. Display the name, age and salary of each employee."
   ]
  },
  {
   "cell_type": "code",
   "execution_count": 114,
   "metadata": {},
   "outputs": [],
   "source": [
    "employeeList = []\n",
    "\n",
    "class Employee(object):\n",
    "    \n",
    "    def __init__(self,name,age,salary):\n",
    "        self.name = name\n",
    "        self.age = age\n",
    "        self.salary = salary\n",
    "       \n",
    "    def setName(self,name):\n",
    "        self.name = \"None\"\n",
    "        employeeList.append(name)\n",
    "        \n",
    "    def setAge(self,age):\n",
    "        self.age = 0\n",
    "        employeeList.append(age)\n",
    "        \n",
    "    def setSalary(self,salary):\n",
    "        self.salary = 0\n",
    "        employeeList.append(salary) \n",
    "\n",
    "    for word in employeeList:        \n",
    "        tokens = employeeList.split(\" \")    \n",
    "        employee = Employee(tokens[0],int(tokens[1]),int(tokens[2]))\n",
    "        employeeList.append(employee)\n",
    "    \n",
    "    def printEmployee(self):\n",
    "        print(employee)"
   ]
  },
  {
   "cell_type": "code",
   "execution_count": 115,
   "metadata": {},
   "outputs": [],
   "source": [
    "employee1 = Employee(\"Tina\", 29, 1200)\n",
    "employee2 = Employee(\"John\", 45, 1500)\n",
    "employee3 = Employee(\"Jill\", 34, 1400)\n",
    "employee4 = Employee(\"Jack\", 28, 1300)"
   ]
  },
  {
   "cell_type": "code",
   "execution_count": 116,
   "metadata": {},
   "outputs": [
    {
     "ename": "NameError",
     "evalue": "name 'employee' is not defined",
     "output_type": "error",
     "traceback": [
      "\u001b[1;31m---------------------------------------------------------------------------\u001b[0m",
      "\u001b[1;31mNameError\u001b[0m                                 Traceback (most recent call last)",
      "\u001b[1;32m<ipython-input-116-50f9c64d91e1>\u001b[0m in \u001b[0;36m<module>\u001b[1;34m()\u001b[0m\n\u001b[1;32m----> 1\u001b[1;33m \u001b[0mEmployee\u001b[0m\u001b[1;33m.\u001b[0m\u001b[0mprintEmployee\u001b[0m\u001b[1;33m(\u001b[0m\u001b[0memployeeList\u001b[0m\u001b[1;33m)\u001b[0m\u001b[1;33m\u001b[0m\u001b[0m\n\u001b[0m",
      "\u001b[1;32m<ipython-input-114-dc1fa1c3a92f>\u001b[0m in \u001b[0;36mprintEmployee\u001b[1;34m(self)\u001b[0m\n\u001b[0;32m     26\u001b[0m \u001b[1;33m\u001b[0m\u001b[0m\n\u001b[0;32m     27\u001b[0m     \u001b[1;32mdef\u001b[0m \u001b[0mprintEmployee\u001b[0m\u001b[1;33m(\u001b[0m\u001b[0mself\u001b[0m\u001b[1;33m)\u001b[0m\u001b[1;33m:\u001b[0m\u001b[1;33m\u001b[0m\u001b[0m\n\u001b[1;32m---> 28\u001b[1;33m         \u001b[0mprint\u001b[0m\u001b[1;33m(\u001b[0m\u001b[0memployee\u001b[0m\u001b[1;33m)\u001b[0m\u001b[1;33m\u001b[0m\u001b[0m\n\u001b[0m",
      "\u001b[1;31mNameError\u001b[0m: name 'employee' is not defined"
     ]
    }
   ],
   "source": [
    "Employee.printEmployee(employeeList)"
   ]
  },
  {
   "cell_type": "markdown",
   "metadata": {},
   "source": [
    "#### Exercise 5 -  Creating a Python calculator class\n",
    "\n",
    "Create a Python class called Calculator. \n",
    "\n",
    "The class has the following data members\n",
    "\n",
    "```\n",
    "1. number1 - type float\n",
    "2. number2 - type float\n",
    "```\n",
    "\n",
    "The class must have the below methods\n",
    "\n",
    "```\n",
    "1. add - adds two numbers and returns the result\n",
    "2. subtract - subtracts the first number from the second number and returns the result\n",
    "3. multiply - multiply two numbers and returns the result\n",
    "4. divide - divide the first number by the second number and returns the result\n",
    "5. __init__ - accepts two numbers and uses those numbers to initialize number1 and number2 respectively\n",
    "```\n",
    "\n",
    "Create an object of the Calculator class. Initialize it with any two arbitrary numbers. Invoke the methods add, subtract, multiple and divide and display the result\n",
    "\n",
    "\n"
   ]
  },
  {
   "cell_type": "code",
   "execution_count": 88,
   "metadata": {},
   "outputs": [],
   "source": [
    "class Calculator(object):\n",
    "        def __init__(self,x,y):\n",
    "            x = input(\"enter first number: \")\n",
    "            y = input(\"enter second number: \")\n",
    "        def add(x,y):\n",
    "            return x + y\n",
    "        def subtract(x,y):\n",
    "            return y - x\n",
    "        def multiply(x,y):\n",
    "             return x * y\n",
    "        def divide(x,y):\n",
    "            return x / y"
   ]
  },
  {
   "cell_type": "code",
   "execution_count": 89,
   "metadata": {},
   "outputs": [
    {
     "data": {
      "text/plain": [
       "4"
      ]
     },
     "execution_count": 89,
     "metadata": {},
     "output_type": "execute_result"
    }
   ],
   "source": [
    "Calculator.add(1,3)"
   ]
  },
  {
   "cell_type": "code",
   "execution_count": 90,
   "metadata": {},
   "outputs": [
    {
     "data": {
      "text/plain": [
       "-2"
      ]
     },
     "execution_count": 90,
     "metadata": {},
     "output_type": "execute_result"
    }
   ],
   "source": [
    "Calculator.subtract(3,1)"
   ]
  },
  {
   "cell_type": "code",
   "execution_count": 91,
   "metadata": {},
   "outputs": [
    {
     "data": {
      "text/plain": [
       "10"
      ]
     },
     "execution_count": 91,
     "metadata": {},
     "output_type": "execute_result"
    }
   ],
   "source": [
    "Calculator.multiply(5,2)"
   ]
  },
  {
   "cell_type": "code",
   "execution_count": 92,
   "metadata": {},
   "outputs": [
    {
     "data": {
      "text/plain": [
       "2.5"
      ]
     },
     "execution_count": 92,
     "metadata": {},
     "output_type": "execute_result"
    }
   ],
   "source": [
    "Calculator.divide(5,2)"
   ]
  },
  {
   "cell_type": "markdown",
   "metadata": {},
   "source": [
    "# Optional Exercise"
   ]
  },
  {
   "cell_type": "markdown",
   "metadata": {},
   "source": [
    "#### Exercise 6"
   ]
  },
  {
   "cell_type": "markdown",
   "metadata": {
    "collapsed": true
   },
   "source": [
    "In the next two problems, you’ll be building an address book using object-­‐oriented programming in Python. To begin, you’ll define a Person class. You’ll use this class in the next problem to build your address book – each entry in your address book will be an instance of the Person class.\n",
    "\n",
    "To begin, define the    init    and    str    methods for the Person class. Read the Python documentation if needed to help you understand what    init__ and    str \t need to do.\n",
    "\n",
    "Here’s an example interaction in the Python shell demonstrating how your class should work after implementing these two methods:"
   ]
  },
  {
   "cell_type": "raw",
   "metadata": {},
   "source": [
    "Emily = Person(“Zhang”, “Emily”, “5559358150”, “emzhang@mit.edu”)\n",
    "print Emily\n",
    "Zhang, Emily -- Phone Number: 5559358150 -- Email Address(es): emzhang@mit.edu\n",
    "Wesley = Person(“Graybill”, “Wesley”, “5551940325”, [‘wgray496@mit.edu’, ‘wdgraybill@gmail.com’])\n",
    "print Wesley\n",
    "Graybill, Wesley -- Phone Number: 5551940325 -- Email Address(es): wgray496@mit.edu, wdgraybill@gmail.com"
   ]
  },
  {
   "cell_type": "code",
   "execution_count": 5,
   "metadata": {},
   "outputs": [],
   "source": [
    "### YOUR CODE GOES \n",
    "\n",
    "\n",
    "### END CODE"
   ]
  },
  {
   "cell_type": "markdown",
   "metadata": {},
   "source": [
    "#### Exercise 7"
   ]
  },
  {
   "cell_type": "markdown",
   "metadata": {},
   "source": [
    "In this problem, you will use your Person class from the previous problem to create an address book for storing the contacts of your friends and family. It should allow you to search the address book for a friend, and return their contact information.\n",
    "\n",
    "Begin by defining an   init   method. Don’t forget about Python's built-­‐in dictionary data type.\n",
    "\n",
    "Next, write a method add_contact that allows you to add a new person to the address book.\n",
    "\n",
    "Finally, write a method lookup_contact that looks up a contact by last name. The method should accept the last name as an argument, and print each contact that matches the last name on a new line. As an additional challenge, extend this method to allow users to optionally specify a first name to narrow down the results when multiple contacts have the same last name. To learn more about optional arguments in Python, search for terms such as “optional arguments in Python” and “default arguments in Python”.\n",
    "\n",
    "For example, suppose the contact book contains entries for both Ali Kamil, and his wife Sama Kamil. The following is an example output:\n"
   ]
  },
  {
   "cell_type": "raw",
   "metadata": {},
   "source": [
    ">>> a = AddressBook()\n",
    ">>> a.add_person(Person(“Kamil”, “Ali”, … ))\n",
    ">>> a.add_person(Person(“Kamil”, “Sama”, … ))\n",
    ">>> a.lookup_contact(“Kamil”) Kamil, Ali -- Phone Number: … Kamil, Sama -- Phone Number: …\n",
    ">>> a.lookup_contact(“Kamil”, “Ali”)\n",
    "Kamil, Ali -- Phone Number: …\n"
   ]
  },
  {
   "cell_type": "code",
   "execution_count": 6,
   "metadata": {
    "collapsed": true
   },
   "outputs": [],
   "source": [
    "### YOUR CODE GOES \n",
    "\n",
    "\n",
    "### END CODE"
   ]
  },
  {
   "cell_type": "code",
   "execution_count": null,
   "metadata": {
    "collapsed": true
   },
   "outputs": [],
   "source": []
  }
 ],
 "metadata": {
  "kernelspec": {
   "display_name": "Python 3",
   "language": "python",
   "name": "python3"
  },
  "language_info": {
   "codemirror_mode": {
    "name": "ipython",
    "version": 3
   },
   "file_extension": ".py",
   "mimetype": "text/x-python",
   "name": "python",
   "nbconvert_exporter": "python",
   "pygments_lexer": "ipython3",
   "version": "3.6.5"
  }
 },
 "nbformat": 4,
 "nbformat_minor": 2
}
