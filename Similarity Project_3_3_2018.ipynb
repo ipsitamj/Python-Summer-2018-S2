{
 "cells": [
  {
   "cell_type": "markdown",
   "metadata": {},
   "source": [
    "# Similarity"
   ]
  },
  {
   "cell_type": "markdown",
   "metadata": {},
   "source": [
    "Objective: To write a Python program that can calculate the best match for an incorrectly spelled word based on the difference between its length and the length of correctly spelled words provided by the user."
   ]
  },
  {
   "cell_type": "code",
   "execution_count": 40,
   "metadata": {},
   "outputs": [],
   "source": [
    "def similarity(inputWord,words):\n",
    "    \n",
    "    # Get the list that consists of words relatively the same length of the input word (that is, plus or minus 1).\n",
    "    \n",
    "    if len(inputWord) == 0:\n",
    "        print(\"Please provide a valid word\")\n",
    "        return \"INVALID_ENTRY\"\n",
    "    \n",
    "    \n",
    "    inputWord_less = len(inputWord) - 1\n",
    "    inputWord_more = len(inputWord) + 1\n",
    "    \n",
    "    # Getting the elements of the list candidate_words:\n",
    "    candidate_words = []\n",
    "    \n",
    "    for entry in words:\n",
    "        \n",
    "        if len(entry) >= inputWord_less and len(entry) <= inputWord_more:\n",
    "            candidate_words.append(entry)\n",
    "            \n",
    "    # To do the similarity comparison:\n",
    "    firstTime = True\n",
    "    match_count = None\n",
    "    match_word = None\n",
    "    \n",
    "    print(\"Input word:\", inputWord)\n",
    "    for entry in candidate_words:\n",
    "        match1 = 0\n",
    "        for character in entry:\n",
    "            #print \"letter:\",l1\n",
    "            if character in inputWord:\n",
    "                match1 = match1 + 1\n",
    "                \n",
    "        if firstTime == True:\n",
    "            match_count = match1\n",
    "            match_word = entry\n",
    "            firstTime = False\n",
    "        else:\n",
    "            if match1 > match_count:\n",
    "                match_count = match1\n",
    "                match_word = entry\n",
    "                \n",
    "    # Show which word best matches inputWord.\n",
    "    print(\"Best Match Is:\", match_word)"
   ]
  },
  {
   "cell_type": "code",
   "execution_count": 35,
   "metadata": {},
   "outputs": [
    {
     "name": "stdout",
     "output_type": "stream",
     "text": [
      "Overwriting similarity.py\n"
     ]
    }
   ],
   "source": [
    "%%writefile similarity.py\n",
    "\n",
    "import similarity\n",
    "\n",
    "# Take all of the contents from Alice and Wonderland file and put them in memory.\n",
    "\n",
    "aliceFile = open(\"aliceText.txt\")\n",
    "\n",
    "words = []\n",
    "\n",
    "for line in aliceFile: \n",
    "    \n",
    "    # To remove each new line:\n",
    "    line = line.strip().lower()\n",
    "    \n",
    "    # To get all of the words:\n",
    "    words = line.split(\" \")\n",
    "    \n",
    "    for word in words:\n",
    "        if word.isalnum():\n",
    "            if word not in words:\n",
    "                words.append(word)\n",
    "                \n",
    "print(similarity.similarity(inputWord,words))"
   ]
  },
  {
   "cell_type": "code",
   "execution_count": 36,
   "metadata": {},
   "outputs": [],
   "source": [
    "import nltk"
   ]
  },
  {
   "cell_type": "code",
   "execution_count": 37,
   "metadata": {},
   "outputs": [
    {
     "data": {
      "text/plain": [
       "5"
      ]
     },
     "execution_count": 37,
     "metadata": {},
     "output_type": "execute_result"
    }
   ],
   "source": [
    "nltk.edit_distance(\"wonde\",\"wonderland\")"
   ]
  },
  {
   "cell_type": "code",
   "execution_count": 38,
   "metadata": {},
   "outputs": [
    {
     "name": "stdout",
     "output_type": "stream",
     "text": [
      "Input word: rabb\n",
      "Best Match Is: Alice\n"
     ]
    }
   ],
   "source": [
    "similarity(\"rabb\", [\"rabbit\", \"wonderland\", \"Alice\"])"
   ]
  },
  {
   "cell_type": "code",
   "execution_count": 39,
   "metadata": {},
   "outputs": [
    {
     "name": "stdout",
     "output_type": "stream",
     "text": [
      "Input word: wonderlan\n",
      "Best Match Is: wonderland\n"
     ]
    }
   ],
   "source": [
    "similarity(\"wonderlan\", [\"wonderland\", \"rabbit\", \"Alice\"])"
   ]
  },
  {
   "cell_type": "code",
   "execution_count": null,
   "metadata": {},
   "outputs": [],
   "source": []
  }
 ],
 "metadata": {
  "kernelspec": {
   "display_name": "Python 3",
   "language": "python",
   "name": "python3"
  },
  "language_info": {
   "codemirror_mode": {
    "name": "ipython",
    "version": 3
   },
   "file_extension": ".py",
   "mimetype": "text/x-python",
   "name": "python",
   "nbconvert_exporter": "python",
   "pygments_lexer": "ipython3",
   "version": "3.6.5"
  }
 },
 "nbformat": 4,
 "nbformat_minor": 1
}
