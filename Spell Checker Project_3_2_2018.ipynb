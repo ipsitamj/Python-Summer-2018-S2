{
 "cells": [
  {
   "cell_type": "markdown",
   "metadata": {},
   "source": [
    "# Similarity/Spell-Checker"
   ]
  },
  {
   "cell_type": "markdown",
   "metadata": {},
   "source": [
    "Objective: To write a Python program that can calculate the best match for an incorrectly spelled word based on the difference between its length and the length of correctly spelled words provided by the user."
   ]
  },
  {
   "cell_type": "code",
   "execution_count": 17,
   "metadata": {},
   "outputs": [],
   "source": [
    "def similarity(inputWord,words):\n",
    "    \n",
    "    # get list of words that share the relatively same size +/- 1 letter\n",
    "    \n",
    "    if len(inputWord) == 0:\n",
    "        print(\"Please provide a valid word\")\n",
    "        return \"INVALID_ENTRY\"\n",
    "    \n",
    "    lowerWordLen = len(inputWord) - 1\n",
    "    upperWordLen = len(inputWord) + 1\n",
    "    \n",
    "    # get the list of candidate words\n",
    "    candidate_words = []\n",
    "    \n",
    "    for entry in words:\n",
    "        \n",
    "        if len(entry) >= lowerWordLen and len(entry) <= upperWordLen:\n",
    "            candidate_words.append(entry)\n",
    "            \n",
    "    # perform similarity comparison\n",
    "    firstTime = True\n",
    "    match_count = None\n",
    "    match_word = None\n",
    "    \n",
    "    print(\"Input word:\", inputWord)\n",
    "    for entry in candidate_words:\n",
    "        match1 = 0\n",
    "        for l1 in entry:\n",
    "            #print \"letter:\",l1\n",
    "            if l1 in inputWord:\n",
    "                match1 = match1 + 1\n",
    "                \n",
    "        if firstTime == True:\n",
    "            match_count = match1\n",
    "            match_word = entry\n",
    "            firstTime = False\n",
    "        else:\n",
    "            if match1 > match_count:\n",
    "                match_count = match1\n",
    "                match_word = entry\n",
    "                \n",
    "    # display the best match\n",
    "    print(\"Best Match Is:\", match_word)"
   ]
  },
  {
   "cell_type": "code",
   "execution_count": 23,
   "metadata": {},
   "outputs": [
    {
     "name": "stdout",
     "output_type": "stream",
     "text": [
      "Overwriting similarity.py\n"
     ]
    }
   ],
   "source": [
    "%%writefile similarity.py\n",
    "\n",
    "import similarity\n",
    "\n",
    "# take all words from alice and store them in memory\n",
    "\n",
    "aliceFile = open(\"aliceText.txt\")\n",
    "\n",
    "words = []\n",
    "\n",
    "for line in aliceFile:\n",
    "    \n",
    "    # remove newlines\n",
    "    line = line.strip().lower()\n",
    "    \n",
    "    # get words\n",
    "    words = line.split(\" \")\n",
    "    \n",
    "    for word in words:\n",
    "        if word.isalnum():\n",
    "            if word not in words:\n",
    "                words.append(word)\n",
    "                \n",
    "print(similarity.similarity(inputWord,words))"
   ]
  },
  {
   "cell_type": "code",
   "execution_count": 24,
   "metadata": {},
   "outputs": [],
   "source": [
    "import nltk"
   ]
  },
  {
   "cell_type": "code",
   "execution_count": 25,
   "metadata": {},
   "outputs": [
    {
     "data": {
      "text/plain": [
       "5"
      ]
     },
     "execution_count": 25,
     "metadata": {},
     "output_type": "execute_result"
    }
   ],
   "source": [
    "nltk.edit_distance(\"wonde\",\"wonderland\")"
   ]
  },
  {
   "cell_type": "code",
   "execution_count": 26,
   "metadata": {},
   "outputs": [
    {
     "name": "stdout",
     "output_type": "stream",
     "text": [
      "Input word: rabb\n",
      "Best Match Is: Alice\n"
     ]
    }
   ],
   "source": [
    "similarity(\"rabb\", [\"rabbit\", \"wonderland\", \"Alice\"])"
   ]
  },
  {
   "cell_type": "code",
   "execution_count": 27,
   "metadata": {},
   "outputs": [
    {
     "name": "stdout",
     "output_type": "stream",
     "text": [
      "Input word: wonderlan\n",
      "Best Match Is: wonderland\n"
     ]
    }
   ],
   "source": [
    "similarity(\"wonderlan\", [\"wonderland\", \"rabbit\", \"Alice\"])"
   ]
  },
  {
   "cell_type": "code",
   "execution_count": null,
   "metadata": {},
   "outputs": [],
   "source": []
  }
 ],
 "metadata": {
  "kernelspec": {
   "display_name": "Python 3",
   "language": "python",
   "name": "python3"
  },
  "language_info": {
   "codemirror_mode": {
    "name": "ipython",
    "version": 3
   },
   "file_extension": ".py",
   "mimetype": "text/x-python",
   "name": "python",
   "nbconvert_exporter": "python",
   "pygments_lexer": "ipython3",
   "version": "3.6.5"
  }
 },
 "nbformat": 4,
 "nbformat_minor": 1
}
